{
 "cells": [
  {
   "cell_type": "markdown",
   "metadata": {},
   "source": [
    "## Load MNIST on Python 3.x"
   ]
  },
  {
   "cell_type": "code",
   "execution_count": 57,
   "metadata": {},
   "outputs": [],
   "source": [
    "import pickle\n",
    "import gzip\n",
    "eta = 0.003"
   ]
  },
  {
   "cell_type": "code",
   "execution_count": 7,
   "metadata": {},
   "outputs": [],
   "source": [
    "filename = 'mnist.pkl.gz'\n",
    "f = gzip.open(filename, 'rb')\n",
    "training_data, validation_data, test_data = pickle.load(f, encoding='latin1')\n",
    "f.close()"
   ]
  },
  {
   "cell_type": "markdown",
   "metadata": {},
   "source": [
    "## Load USPS on Python 3.x"
   ]
  },
  {
   "cell_type": "code",
   "execution_count": 8,
   "metadata": {},
   "outputs": [],
   "source": [
    "from PIL import Image\n",
    "import os\n",
    "import numpy as np"
   ]
  },
  {
   "cell_type": "code",
   "execution_count": 9,
   "metadata": {},
   "outputs": [],
   "source": [
    "USPSMat  = []\n",
    "USPSTar  = []\n",
    "curPath  = 'USPSdata/Numerals'\n",
    "savedImg = []\n",
    "\n",
    "for j in range(0,10):\n",
    "    curFolderPath = curPath + '/' + str(j)\n",
    "    imgs =  os.listdir(curFolderPath)\n",
    "    for img in imgs:\n",
    "        curImg = curFolderPath + '/' + img\n",
    "        if curImg[-3:] == 'png':\n",
    "            img = Image.open(curImg,'r')\n",
    "            img = img.resize((28, 28))\n",
    "            savedImg = img\n",
    "            imgdata = (255-np.array(img.getdata()))/255\n",
    "            USPSMat.append(imgdata)\n",
    "            USPSTar.append(j)"
   ]
  },
  {
   "cell_type": "markdown",
   "metadata": {},
   "source": [
    "#### one hot vector\n"
   ]
  },
  {
   "cell_type": "code",
   "execution_count": 58,
   "metadata": {},
   "outputs": [
    {
     "data": {
      "text/plain": [
       "array([0., 0., 0., 0., 1., 0., 0., 0., 0., 0.])"
      ]
     },
     "execution_count": 58,
     "metadata": {},
     "output_type": "execute_result"
    }
   ],
   "source": [
    "training_data[1].shape[0]\n",
    "onehotvector = np.zeros((50000,10))\n",
    "for i in range(50000):\n",
    "    if(training_data[1][i] ==0):\n",
    "        onehotvector[i] = [1,0,0,0,0,0,0,0,0,0]\n",
    "    if(training_data[1][i] ==1):\n",
    "        onehotvector[i] = [0,1,0,0,0,0,0,0,0,0]\n",
    "    if(training_data[1][i] ==2):\n",
    "        onehotvector[i] = [0,0,1,0,0,0,0,0,0,0] \n",
    "    if(training_data[1][i] ==3):\n",
    "        onehotvector[i] = [0,0,0,1,0,0,0,0,0,0]\n",
    "    if(training_data[1][i] ==4):\n",
    "        onehotvector[i] = [0,0,0,0,1,0,0,0,0,0]\n",
    "    if(training_data[1][i] ==5):\n",
    "        onehotvector[i] = [0,0,0,0,0,1,0,0,0,0]\n",
    "    if(training_data[1][i] ==6):\n",
    "        onehotvector[i] = [0,0,0,0,0,0,1,0,0,0]\n",
    "    if(training_data[1][i] ==7):\n",
    "        onehotvector[i] = [0,0,0,0,0,0,0,1,0,0]\n",
    "        \n",
    "    if(training_data[1][i] ==8):\n",
    "        onehotvector[i] = [0,0,0,0,0,0,0,0,1,0]\n",
    "    if(training_data[1][i] ==9):\n",
    "        onehotvector[i] = [0,0,0,0,0,0,0,0,0,1]\n",
    "    \n",
    "\n",
    "\n",
    "\n",
    "\n",
    "onehotvector[49000]"
   ]
  },
  {
   "cell_type": "code",
   "execution_count": 60,
   "metadata": {},
   "outputs": [],
   "source": [
    "import numpy as np\n",
    "def softmax(x):\n",
    "    ex = np.exp(x)\n",
    "    sum_ex = np.sum( np.exp(x))\n",
    "    return ex/sum_ex"
   ]
  },
  {
   "cell_type": "markdown",
   "metadata": {},
   "source": [
    "#### initialiazing of weights"
   ]
  },
  {
   "cell_type": "code",
   "execution_count": 61,
   "metadata": {},
   "outputs": [],
   "source": [
    "\n",
    "wnew = np.random.rand(10,784)/10000\n"
   ]
  },
  {
   "cell_type": "code",
   "execution_count": 120,
   "metadata": {},
   "outputs": [],
   "source": [
    "\n",
    "b = [1,1,1,1,1,1,1,1,1,1]\n"
   ]
  },
  {
   "cell_type": "markdown",
   "metadata": {},
   "source": [
    "### Logistic Regression on mnist dataset"
   ]
  },
  {
   "cell_type": "code",
   "execution_count": 63,
   "metadata": {},
   "outputs": [],
   "source": [
    "\n",
    "for i in range(50000):\n",
    "    z = np.dot(wnew,training_data[0][i]) + b\n",
    "    s = softmax(z)\n",
    "    #k = values.index(max(s))\n",
    "    delE = np.dot(np.transpose((s - onehotvector[i])[np.newaxis]),(training_data[0][i][np.newaxis]))\n",
    "    wnew = wnew - eta*delE\n",
    "    \n",
    "  "
   ]
  },
  {
   "cell_type": "markdown",
   "metadata": {},
   "source": [
    "#### Training accuracy"
   ]
  },
  {
   "cell_type": "code",
   "execution_count": 121,
   "metadata": {},
   "outputs": [
    {
     "name": "stdout",
     "output_type": "stream",
     "text": [
      "90.24\n"
     ]
    }
   ],
   "source": [
    "testdata = test_data[0]\n",
    "#testonehotvector = np.zeros((10000,10))\n",
    "right = 0\n",
    "wrong = 0\n",
    "for i in range(50000):\n",
    "    z = np.dot(wnew,training_data[0][i]) \n",
    "    s = softmax(z)\n",
    "    m = np.argmax(s)\n",
    "    if (m == training_data[1][i]):\n",
    "            right = right + 1\n",
    "accuracy = (right/50000)*100\n",
    "\n",
    "print(accuracy)\n",
    "    \n",
    "\n"
   ]
  },
  {
   "cell_type": "markdown",
   "metadata": {},
   "source": [
    "#### Validation accuracy"
   ]
  },
  {
   "cell_type": "code",
   "execution_count": 122,
   "metadata": {},
   "outputs": [
    {
     "name": "stdout",
     "output_type": "stream",
     "text": [
      "91.21000000000001\n"
     ]
    }
   ],
   "source": [
    "right = 0\n",
    "for i in range(10000):\n",
    "    z = np.dot(wnew,validation_data[0][i]) \n",
    "    s = softmax(z)\n",
    "    m = np.argmax(s)\n",
    "    if (m == validation_data[1][i]):\n",
    "            right = right + 1\n",
    "accuracy = (right/10000)*100\n",
    "\n",
    "print(accuracy)"
   ]
  },
  {
   "cell_type": "markdown",
   "metadata": {},
   "source": [
    "#### Testing accuracy"
   ]
  },
  {
   "cell_type": "code",
   "execution_count": 123,
   "metadata": {},
   "outputs": [
    {
     "name": "stdout",
     "output_type": "stream",
     "text": [
      "90.79\n"
     ]
    }
   ],
   "source": [
    "right = 0\n",
    "predlog = []\n",
    "for i in range(10000):\n",
    "    z = np.dot(wnew,test_data[0][i]) \n",
    "    s = softmax(z)\n",
    "    m = np.argmax(s)\n",
    "    predlog.append(m)\n",
    "    if (m == test_data[1][i]):\n",
    "            right = right + 1\n",
    "accuracy = (right/10000)*100\n",
    "\n",
    "print(accuracy)\n"
   ]
  },
  {
   "cell_type": "code",
   "execution_count": 20,
   "metadata": {},
   "outputs": [
    {
     "data": {
      "text/plain": [
       "array([[ 955,    0,    1,    4,    0,    5,    9,    1,    5,    0],\n",
       "       [   0, 1113,    0,    5,    0,    3,    4,    2,    8,    0],\n",
       "       [   9,    9,  881,   31,   11,    3,   13,   24,   43,    8],\n",
       "       [   2,    0,   11,  927,    0,   37,    1,   12,   12,    8],\n",
       "       [   2,    4,    4,    1,  887,    1,   12,    4,   10,   57],\n",
       "       [   8,    5,    1,   44,    6,  775,   10,    9,   26,    8],\n",
       "       [  12,    3,    3,    3,    8,   29,  892,    3,    5,    0],\n",
       "       [   2,   14,   19,    8,    5,    0,    0,  951,    3,   26],\n",
       "       [   3,   10,    4,   46,    7,   55,   12,   16,  808,   13],\n",
       "       [   8,    8,    2,   13,   20,   19,    0,   40,    4,  895]])"
      ]
     },
     "execution_count": 20,
     "metadata": {},
     "output_type": "execute_result"
    }
   ],
   "source": [
    "from sklearn.metrics import confusion_matrix\n",
    ">>> y_true =test_data[1]  \n",
    ">>> y_predict = predlog\n",
    ">>> confusion_matrix(y_true, y_predict)"
   ]
  },
  {
   "cell_type": "markdown",
   "metadata": {},
   "source": [
    "#### Testing accuracy on USPS dataset"
   ]
  },
  {
   "cell_type": "code",
   "execution_count": 124,
   "metadata": {},
   "outputs": [
    {
     "name": "stdout",
     "output_type": "stream",
     "text": [
      "35.24176208810441\n"
     ]
    }
   ],
   "source": [
    "right = 0\n",
    "predlogU = []\n",
    "for i in range(19999):\n",
    "    z = np.dot(wnew,USPSMat[i]) \n",
    "    s = softmax(z)\n",
    "    m = np.argmax(s)\n",
    "    predlogU.append(m)\n",
    "    if (m == USPSTar[i]):\n",
    "            right = right + 1\n",
    "accuracy = (right/19999)*100\n",
    "\n",
    "print(accuracy)"
   ]
  },
  {
   "cell_type": "code",
   "execution_count": 22,
   "metadata": {},
   "outputs": [
    {
     "data": {
      "text/plain": [
       "array([[ 563,    4,  255,   84,  167,  238,   95,   88,  146,  360],\n",
       "       [ 159,  356,  161,  341,  153,  108,   29,  464,  202,   27],\n",
       "       [ 173,   21, 1101,  233,   37,  149,   87,   85,   81,   32],\n",
       "       [  59,    2,  108, 1337,    3,  331,    3,   67,   56,   34],\n",
       "       [  64,   81,   32,   75,  833,  169,   46,  210,  321,  169],\n",
       "       [ 134,   19,  162,  210,   24, 1232,   82,   72,   48,   17],\n",
       "       [ 262,   10,  334,  147,   65,  396,  677,   26,   41,   42],\n",
       "       [ 161,  200,  216,  523,   58,  116,   22,  368,  276,   60],\n",
       "       [ 222,   32,  116,  248,   76,  737,  102,   56,  343,   68],\n",
       "       [  30,  144,  111,  526,   88,  112,   14,  460,  336,  179]])"
      ]
     },
     "execution_count": 22,
     "metadata": {},
     "output_type": "execute_result"
    }
   ],
   "source": [
    "from sklearn.metrics import confusion_matrix\n",
    ">>> y_true =USPSTar  \n",
    ">>> y_predict = predlogU\n",
    ">>> confusion_matrix(y_true, y_predict)"
   ]
  },
  {
   "cell_type": "code",
   "execution_count": 220,
   "metadata": {},
   "outputs": [],
   "source": [
    "store = wnew"
   ]
  },
  {
   "cell_type": "markdown",
   "metadata": {},
   "source": [
    "#### mini batch size SGD"
   ]
  },
  {
   "cell_type": "code",
   "execution_count": 164,
   "metadata": {},
   "outputs": [],
   "source": [
    "#Mini-Batch SGD Logistic Regression\n",
    "wt = np.random.rand(10,784)/10000\n",
    "batchsize = 50\n",
    "epoch = 20\n",
    "sum = 0\n",
    "for j in range(epoch):\n",
    "    for i in range(len(training_data[0])):\n",
    "        z = np.dot(wt,training_data[0][i]) + b \n",
    "        y = softmax(z)\n",
    "        E = np.dot(np.transpose((y-onehotvector[i])[np.newaxis]),training_data[0][i][np.newaxis])\n",
    "        sum = sum + E\n",
    "        if((i+1)%batchsize==0):\n",
    "            wt = wt - eta*(sum/batchsize)\n",
    "            sum = 0"
   ]
  },
  {
   "cell_type": "code",
   "execution_count": 165,
   "metadata": {},
   "outputs": [
    {
     "name": "stdout",
     "output_type": "stream",
     "text": [
      "Testing Accuracy : 90.33\n"
     ]
    }
   ],
   "source": [
    "y_pred_lr =[]\n",
    "right = 0\n",
    "wrong = 0\n",
    "for i in range(len(test_data[0])):\n",
    "    z = np.dot(wt,test_data[0][i])\n",
    "    y = softmax(z)\n",
    "    y_pred_lr.append(np.argmax(y))\n",
    "    if(np.argmax(y)==test_data[1][i]):\n",
    "        right = right + 1\n",
    "    else:\n",
    "        wrong = wrong + 1\n",
    "    \n",
    "testacc = (right/(right+wrong))*100\n",
    "print(\"Testing Accuracy : \"+ str(testacc))"
   ]
  },
  {
   "cell_type": "code",
   "execution_count": 166,
   "metadata": {},
   "outputs": [
    {
     "name": "stdout",
     "output_type": "stream",
     "text": [
      "Testing Accuracy : 35.161758087904396\n"
     ]
    }
   ],
   "source": [
    "y_pred_lru =[]\n",
    "right = 0\n",
    "wrong = 0\n",
    "for i in range(len(USPSMat)):\n",
    "    z = np.dot(wt,USPSMat[i])\n",
    "    y = softmax(z)\n",
    "    y_pred_lru.append(np.argmax(y))\n",
    "    if(np.argmax(y)==USPSTar[i]):\n",
    "        right = right + 1\n",
    "    else:\n",
    "        wrong = wrong + 1\n",
    "    \n",
    "testacc = (right/(right+wrong))*100\n",
    "print(\"Testing Accuracy : \"+ str(testacc))"
   ]
  },
  {
   "cell_type": "markdown",
   "metadata": {},
   "source": [
    "### Support Vector Machine"
   ]
  },
  {
   "cell_type": "markdown",
   "metadata": {},
   "source": [
    "#### Support Vector Machine with default gamma"
   ]
  },
  {
   "cell_type": "code",
   "execution_count": 129,
   "metadata": {},
   "outputs": [
    {
     "data": {
      "text/plain": [
       "SVC(C=1.0, cache_size=200, class_weight=None, coef0=0.0,\n",
       "  decision_function_shape='ovr', degree=3, gamma='auto', kernel='rbf',\n",
       "  max_iter=-1, probability=False, random_state=None, shrinking=True,\n",
       "  tol=0.001, verbose=False)"
      ]
     },
     "execution_count": 129,
     "metadata": {},
     "output_type": "execute_result"
    }
   ],
   "source": [
    "import numpy as np\n",
    "from sklearn.svm import SVC\n",
    "from sklearn.ensemble import RandomForestClassifier\n",
    "from sklearn.datasets import fetch_mldata\n",
    "\n",
    "classifier1 = SVC(kernel='rbf', gamma = 'auto')\n",
    "classifier1.fit(training_data[0], training_data[1])"
   ]
  },
  {
   "cell_type": "code",
   "execution_count": 130,
   "metadata": {},
   "outputs": [],
   "source": [
    "y_pred = classifier1.predict(test_data[0])"
   ]
  },
  {
   "cell_type": "code",
   "execution_count": 137,
   "metadata": {},
   "outputs": [
    {
     "name": "stdout",
     "output_type": "stream",
     "text": [
      "0.9435\n"
     ]
    }
   ],
   "source": [
    "right = 0\n",
    "for i in range(10000):\n",
    "    \n",
    "    if (y_pred[i] == test_data[1][i]):\n",
    "            right = right + 1\n",
    "accuracy = right/10000\n",
    "\n",
    "print(accuracy)"
   ]
  },
  {
   "cell_type": "code",
   "execution_count": 138,
   "metadata": {},
   "outputs": [
    {
     "data": {
      "text/plain": [
       "array([[ 967,    0,    1,    0,    0,    5,    4,    1,    2,    0],\n",
       "       [   0, 1120,    2,    3,    0,    1,    3,    1,    5,    0],\n",
       "       [   9,    1,  962,    7,   10,    1,   13,   11,   16,    2],\n",
       "       [   1,    1,   14,  950,    1,   17,    1,   10,   11,    4],\n",
       "       [   1,    1,    7,    0,  937,    0,    7,    2,    2,   25],\n",
       "       [   7,    4,    5,   33,    7,  808,   11,    2,   10,    5],\n",
       "       [  10,    3,    4,    1,    5,   10,  924,    0,    1,    0],\n",
       "       [   2,   13,   22,    5,    7,    1,    0,  954,    4,   20],\n",
       "       [   4,    6,    6,   14,    8,   24,   10,    8,  891,    3],\n",
       "       [  10,    6,    0,   12,   33,    5,    1,   14,    6,  922]])"
      ]
     },
     "execution_count": 138,
     "metadata": {},
     "output_type": "execute_result"
    }
   ],
   "source": [
    "from sklearn.metrics import confusion_matrix\n",
    ">>> y_true = test_data[1] \n",
    ">>> y_predict = y_pred\n",
    ">>> confusion_matrix(y_true, y_predict)"
   ]
  },
  {
   "cell_type": "code",
   "execution_count": 139,
   "metadata": {},
   "outputs": [],
   "source": [
    "y_predUSVM1 = classifier1.predict(USPSMat)"
   ]
  },
  {
   "cell_type": "code",
   "execution_count": 140,
   "metadata": {},
   "outputs": [
    {
     "name": "stdout",
     "output_type": "stream",
     "text": [
      "0.38541927096354817\n"
     ]
    }
   ],
   "source": [
    "right = 0\n",
    "for i in range(19999):\n",
    "    \n",
    "    if (y_predUSVM1[i] == USPSTar[i]):\n",
    "            right = right + 1\n",
    "accuracy = right/19999\n",
    "\n",
    "print(accuracy)"
   ]
  },
  {
   "cell_type": "code",
   "execution_count": 141,
   "metadata": {},
   "outputs": [
    {
     "data": {
      "text/plain": [
       "array([[ 573,    2,  428,   19,  285,  248,   73,   44,    6,  322],\n",
       "       [ 110,  429,  285,  137,  273,  180,   46,  501,   22,   17],\n",
       "       [ 128,   18, 1402,   59,   39,  198,   61,   57,   23,   14],\n",
       "       [  76,    3,  186, 1123,   11,  483,    5,   70,   27,   16],\n",
       "       [  18,   67,   91,   14, 1167,  267,   22,  194,   69,   91],\n",
       "       [ 108,   17,  257,  102,   25, 1367,   60,   43,   15,    6],\n",
       "       [ 197,    7,  489,   24,   98,  394,  748,   13,    7,   23],\n",
       "       [  50,  225,  457,  265,   57,  416,   15,  452,   41,   22],\n",
       "       [  73,   25,  209,  193,   87, 1006,   95,   41,  244,   27],\n",
       "       [  26,  166,  228,  278,  213,  165,    8,  499,  214,  203]])"
      ]
     },
     "execution_count": 141,
     "metadata": {},
     "output_type": "execute_result"
    }
   ],
   "source": [
    "from sklearn.metrics import confusion_matrix\n",
    ">>> y_true = USPSTar \n",
    ">>> y_predict = y_predUSVM1\n",
    ">>> confusion_matrix(y_true, y_predict)"
   ]
  },
  {
   "cell_type": "markdown",
   "metadata": {},
   "source": [
    "#### Support Vector Machine with gamma = 1"
   ]
  },
  {
   "cell_type": "code",
   "execution_count": 3,
   "metadata": {},
   "outputs": [
    {
     "data": {
      "text/plain": [
       "SVC(C=1.0, cache_size=200, class_weight=None, coef0=0.0,\n",
       "  decision_function_shape='ovr', degree=3, gamma=1, kernel='rbf',\n",
       "  max_iter=-1, probability=False, random_state=None, shrinking=True,\n",
       "  tol=0.001, verbose=False)"
      ]
     },
     "execution_count": 3,
     "metadata": {},
     "output_type": "execute_result"
    }
   ],
   "source": [
    "\n",
    "# SVM\n",
    "classifier2 = SVC(kernel='rbf', gamma = 1)\n",
    "classifier2.fit(training_data[0], training_data[1])"
   ]
  },
  {
   "cell_type": "code",
   "execution_count": 23,
   "metadata": {},
   "outputs": [
    {
     "ename": "NameError",
     "evalue": "name 'classifier2' is not defined",
     "output_type": "error",
     "traceback": [
      "\u001b[0;31m---------------------------------------------------------------------------\u001b[0m",
      "\u001b[0;31mNameError\u001b[0m                                 Traceback (most recent call last)",
      "\u001b[0;32m<ipython-input-23-2cb647c4f38f>\u001b[0m in \u001b[0;36m<module>\u001b[0;34m\u001b[0m\n\u001b[0;32m----> 1\u001b[0;31m \u001b[0my_pred2\u001b[0m \u001b[0;34m=\u001b[0m \u001b[0mclassifier2\u001b[0m\u001b[0;34m.\u001b[0m\u001b[0mpredict\u001b[0m\u001b[0;34m(\u001b[0m\u001b[0mX_test\u001b[0m\u001b[0;34m)\u001b[0m\u001b[0;34m\u001b[0m\u001b[0m\n\u001b[0m",
      "\u001b[0;31mNameError\u001b[0m: name 'classifier2' is not defined"
     ]
    }
   ],
   "source": [
    "y_pred2 = classifier2.predict(test_data[0])"
   ]
  },
  {
   "cell_type": "code",
   "execution_count": null,
   "metadata": {},
   "outputs": [],
   "source": [
    "right = 0\n",
    "for i in range(9999):\n",
    "    \n",
    "    if (y_pred2[i] == test_data[1][i]):\n",
    "            right = right + 1\n",
    "accuracy = right/9999\n",
    "\n",
    "print(accuracy)"
   ]
  },
  {
   "cell_type": "code",
   "execution_count": null,
   "metadata": {},
   "outputs": [],
   "source": [
    "from sklearn.metrics import confusion_matrix\n",
    ">>> y_true = test_data[1] \n",
    ">>> y_predict = y_pred2\n",
    ">>> confusion_matrix(y_true, y_predict)"
   ]
  },
  {
   "cell_type": "code",
   "execution_count": null,
   "metadata": {},
   "outputs": [],
   "source": [
    "y_predUSVM2 = classifier2.predict(USPSMat)\n",
    "right = 0\n",
    "for i in range(19999):\n",
    "    \n",
    "    if (y_predUSVM2[i] == USPSTar[i]):\n",
    "            right = right + 1\n",
    "accuracy = right/19999\n",
    "\n",
    "print(accuracy)"
   ]
  },
  {
   "cell_type": "code",
   "execution_count": null,
   "metadata": {},
   "outputs": [],
   "source": [
    "from sklearn.metrics import confusion_matrix\n",
    ">>> y_true = USPSTar \n",
    ">>> y_predict = y_predUSVM2\n",
    ">>> confusion_matrix(y_true, y_predict)"
   ]
  },
  {
   "cell_type": "markdown",
   "metadata": {},
   "source": [
    "#### Support Vector Machine with customized gamma and C"
   ]
  },
  {
   "cell_type": "code",
   "execution_count": 155,
   "metadata": {},
   "outputs": [
    {
     "data": {
      "text/plain": [
       "SVC(C=5, cache_size=200, class_weight=None, coef0=0.0,\n",
       "  decision_function_shape='ovr', degree=3, gamma=0.05, kernel='rbf',\n",
       "  max_iter=-1, probability=False, random_state=None, shrinking=True,\n",
       "  tol=0.001, verbose=False)"
      ]
     },
     "execution_count": 155,
     "metadata": {},
     "output_type": "execute_result"
    }
   ],
   "source": [
    "classifiersvm = SVC(kernel='rbf',C= 5, gamma = 0.05)\n",
    "classifiersvm.fit(training_data[0], training_data[1])"
   ]
  },
  {
   "cell_type": "code",
   "execution_count": 157,
   "metadata": {},
   "outputs": [],
   "source": [
    "y_predsvm = classifiersvm.predict(test_data[0])"
   ]
  },
  {
   "cell_type": "code",
   "execution_count": 158,
   "metadata": {},
   "outputs": [
    {
     "name": "stdout",
     "output_type": "stream",
     "text": [
      "0.9828\n"
     ]
    }
   ],
   "source": [
    "right = 0\n",
    "for i in range(10000):\n",
    "    \n",
    "    if (y_predsvm[i] == test_data[1][i]):\n",
    "            right = right + 1\n",
    "accuracy = right/10000\n",
    "\n",
    "print(accuracy)"
   ]
  },
  {
   "cell_type": "code",
   "execution_count": 159,
   "metadata": {},
   "outputs": [
    {
     "data": {
      "text/plain": [
       "array([[ 974,    0,    1,    0,    0,    1,    1,    1,    2,    0],\n",
       "       [   0, 1128,    3,    1,    0,    1,    0,    1,    1,    0],\n",
       "       [   4,    0, 1015,    1,    1,    0,    0,    6,    5,    0],\n",
       "       [   0,    0,    1,  996,    0,    4,    0,    5,    4,    0],\n",
       "       [   0,    1,    3,    0,  965,    0,    4,    0,    2,    7],\n",
       "       [   2,    0,    1,    7,    1,  872,    3,    1,    4,    1],\n",
       "       [   5,    2,    0,    0,    2,    3,  945,    0,    1,    0],\n",
       "       [   0,    3,    9,    1,    1,    0,    0, 1004,    2,    8],\n",
       "       [   2,    0,    1,    6,    1,    2,    0,    2,  958,    2],\n",
       "       [   4,    4,    2,    8,    6,    2,    0,    6,    6,  971]])"
      ]
     },
     "execution_count": 159,
     "metadata": {},
     "output_type": "execute_result"
    }
   ],
   "source": [
    "from sklearn.metrics import confusion_matrix\n",
    ">>> y_true = test_data[1] \n",
    ">>> y_predict = y_predsvm\n",
    ">>> confusion_matrix(y_true, y_predict)"
   ]
  },
  {
   "cell_type": "code",
   "execution_count": 160,
   "metadata": {},
   "outputs": [
    {
     "name": "stdout",
     "output_type": "stream",
     "text": [
      "0.26136306815340765\n"
     ]
    }
   ],
   "source": [
    "y_predUSVM3 = classifiersvm.predict(USPSMat)\n",
    "right = 0\n",
    "for i in range(19999):\n",
    "    \n",
    "    if (y_predUSVM3[i] == USPSTar[i]):\n",
    "            right = right + 1\n",
    "accuracy = right/19999\n",
    "\n",
    "print(accuracy)"
   ]
  },
  {
   "cell_type": "code",
   "execution_count": 161,
   "metadata": {},
   "outputs": [
    {
     "data": {
      "text/plain": [
       "array([[ 226,    0, 1564,    2,   26,   35,    2,    0,   79,   66],\n",
       "       [  78,  257,  712,  173,  264,   77,   12,  335,   88,    4],\n",
       "       [   8,    0, 1944,    6,    3,   20,    1,    6,   11,    0],\n",
       "       [   4,    0, 1195,  725,    0,   41,    0,    0,   35,    0],\n",
       "       [   6,    0, 1045,   18,  521,   96,    0,   57,  252,    5],\n",
       "       [  15,    0, 1305,   17,    1,  625,    0,    0,   37,    0],\n",
       "       [  78,    0, 1534,    2,   10,   61,  290,    0,   22,    3],\n",
       "       [  17,    6, 1433,  129,    6,  134,    0,  222,   52,    1],\n",
       "       [   7,    0, 1387,   14,    4,  221,    0,    0,  367,    0],\n",
       "       [   1,    0, 1510,   79,   26,   29,    0,   39,  266,   50]])"
      ]
     },
     "execution_count": 161,
     "metadata": {},
     "output_type": "execute_result"
    }
   ],
   "source": [
    "from sklearn.metrics import confusion_matrix\n",
    ">>> y_true = USPSTar \n",
    ">>> y_predict = y_predUSVM3\n",
    ">>> confusion_matrix(y_true, y_predict)"
   ]
  },
  {
   "cell_type": "markdown",
   "metadata": {},
   "source": [
    "#### Linear SVM"
   ]
  },
  {
   "cell_type": "code",
   "execution_count": 115,
   "metadata": {},
   "outputs": [],
   "source": [
    "from sklearn.svm import LinearSVC\n",
    "linear_svm = LinearSVC()\n",
    "linear_svm.fit(training_data[0],training_data[1])\n",
    "predsvm1 = linear_svm.predict(test_data[0])"
   ]
  },
  {
   "cell_type": "code",
   "execution_count": 116,
   "metadata": {},
   "outputs": [
    {
     "name": "stdout",
     "output_type": "stream",
     "text": [
      "0.9157\n"
     ]
    }
   ],
   "source": [
    "right = 0\n",
    "\n",
    "for i in range(10000):\n",
    "    \n",
    "    if (predsvm1[i] == test_data[1][i]):\n",
    "            right = right + 1\n",
    "        \n",
    "accuracy = right/10000\n",
    "\n",
    "print(accuracy)"
   ]
  },
  {
   "cell_type": "code",
   "execution_count": 117,
   "metadata": {},
   "outputs": [
    {
     "data": {
      "text/plain": [
       "array([[ 958,    0,    2,    1,    0,    7,    8,    2,    2,    0],\n",
       "       [   0, 1113,    4,    1,    0,    1,    4,    1,   11,    0],\n",
       "       [  10,    9,  913,   22,   11,    4,   12,   10,   38,    3],\n",
       "       [   5,    2,   21,  913,    3,   20,    5,   13,   19,    9],\n",
       "       [   1,    3,    5,    3,  914,    0,   10,    3,    6,   37],\n",
       "       [  10,    3,    1,   38,   11,  762,   20,    8,   31,    8],\n",
       "       [   9,    4,    6,    2,    6,   20,  908,    1,    2,    0],\n",
       "       [   2,    8,   20,    6,    6,    1,    1,  948,    5,   31],\n",
       "       [   8,   13,    8,   23,   13,   39,    8,   15,  834,   13],\n",
       "       [   6,    8,    2,   15,   33,   10,    0,   28,   13,  894]])"
      ]
     },
     "execution_count": 117,
     "metadata": {},
     "output_type": "execute_result"
    }
   ],
   "source": [
    "from sklearn.metrics import confusion_matrix\n",
    ">>> y_true = test_data[1]  \n",
    ">>> y_predict = predsvm1\n",
    ">>> confusion_matrix(y_true, y_predict)"
   ]
  },
  {
   "cell_type": "markdown",
   "metadata": {},
   "source": [
    "#### SVM on USPS dataset"
   ]
  },
  {
   "cell_type": "code",
   "execution_count": 118,
   "metadata": {},
   "outputs": [
    {
     "name": "stdout",
     "output_type": "stream",
     "text": [
      "0.321\n"
     ]
    }
   ],
   "source": [
    "predsvmU = linear_svm.predict(USPSMat)\n",
    "right = 0\n",
    "\n",
    "for i in range(10000):\n",
    "    \n",
    "    if (predsvmU[i] == USPSTar[i]):\n",
    "            right = right + 1\n",
    "        \n",
    "accuracy = right/10000\n",
    "\n",
    "print(accuracy)"
   ]
  },
  {
   "cell_type": "code",
   "execution_count": 119,
   "metadata": {},
   "outputs": [
    {
     "data": {
      "text/plain": [
       "array([[ 307,    1,  381,  312,   60,  173,  115,  492,   59,  100],\n",
       "       [  43,  278,  664,  158,  351,   99,   28,  283,   73,   23],\n",
       "       [  70,   46, 1284,  102,   47,  170,  149,   85,   21,   25],\n",
       "       [  49,   37,  472,  749,   17,  482,   33,   83,   44,   34],\n",
       "       [  53,   53,  190,  117,  592,  178,   73,  555,  132,   57],\n",
       "       [  42,   23,  839,  218,   23,  644,   80,   96,   27,    8],\n",
       "       [  99,   12,  730,  113,   55,  334,  509,   80,   15,   53],\n",
       "       [ 128,   86,  230,  534,  115,  148,   25,  610,   84,   40],\n",
       "       [ 175,   31,  143,  662,  122,  398,  112,  202,  115,   40],\n",
       "       [  40,   51,  155,  551,  113,   73,   15,  711,  178,  113]])"
      ]
     },
     "execution_count": 119,
     "metadata": {},
     "output_type": "execute_result"
    }
   ],
   "source": [
    "from sklearn.metrics import confusion_matrix\n",
    ">>> y_true = USPSTar \n",
    ">>> y_predict = predsvmU\n",
    ">>> confusion_matrix(y_true, y_predict)"
   ]
  },
  {
   "cell_type": "markdown",
   "metadata": {},
   "source": [
    "### Deep Neural Network "
   ]
  },
  {
   "cell_type": "code",
   "execution_count": 24,
   "metadata": {},
   "outputs": [],
   "source": [
    "def processData(dataset):\n",
    "    \n",
    "    # Why do we have to process?  We do not needvindexes, we only need values.\n",
    "    #We are converting the dataset back to array \n",
    "    #for further processing them to binary form\n",
    "    data   = dataset[0]\n",
    "    labels = onehotvector\n",
    "    #to separately pass arrays to two different codes we converted the dataset to two different arrays\n",
    "    #processedData  = encodeData(data)\n",
    "    #processedLabel = encodeLabel(labels)\n",
    "    print (data)\n",
    "    print(labels)\n",
    "    return data, labels"
   ]
  },
  {
   "cell_type": "code",
   "execution_count": 25,
   "metadata": {},
   "outputs": [],
   "source": [
    "def testData(dataset):\n",
    "    data   = dataset[0]\n",
    "    labels = dataset[1]\n",
    "    #to separately pass arrays to two different codes we converted the dataset to two different arrays\n",
    "    #processedData  = encodeData(data)\n",
    "    #processedLabel = encodeLabel(labels)\n",
    "    #print (data)\n",
    "    #print(labels)\n",
    "    return data, labels"
   ]
  },
  {
   "cell_type": "code",
   "execution_count": 26,
   "metadata": {},
   "outputs": [
    {
     "name": "stderr",
     "output_type": "stream",
     "text": [
      "Using TensorFlow backend.\n",
      "/Users/apoorvabisaria/tensorflowml/lib/python3.6/importlib/_bootstrap.py:219: RuntimeWarning: compiletime version 3.5 of module 'tensorflow.python.framework.fast_tensor_util' does not match runtime version 3.6\n",
      "  return f(*args, **kwds)\n"
     ]
    }
   ],
   "source": [
    "import pandas as pd\n",
    "from keras.models import Sequential\n",
    "from keras.layers import Dense, Activation, Dropout\n",
    "from keras.callbacks import EarlyStopping, TensorBoard\n",
    "from keras.optimizers import SGD\n",
    "import numpy as np\n",
    "\n",
    "input_size = 784\n",
    "drop_out = 0.1\n",
    "first_dense_layer_nodes  = 512\n",
    "second_dense_layer = 256\n",
    "second_dense_layer_nodes = 10\n",
    "\n",
    "def get_model():\n",
    "    \n",
    "    # Why do we need a model? A model is a core data  srtucture in keras and used to organize layers.\n",
    "    # Why use Dense layer and then activation? We need to tell the system how the model is by specifying input and dense layer size,\n",
    "    #after specifying we apply activation.\n",
    "    # Why use sequential model with layers? sequential model is a linear way of stacking layers, \n",
    "    #where a layer connects just to the next layer. Here we have a fixed souce of input and output.\n",
    "    model = Sequential()\n",
    "    \n",
    "    model.add(Dense(first_dense_layer_nodes, input_dim=input_size))\n",
    "    model.add(Activation('relu'))\n",
    "    #relu always gives value such that if x<0 it will give 0 otherwise it will give the number itself\n",
    "    #activation function are used to map input to output\n",
    "    \n",
    "    # Why dropout? WE used dropout to avoid overfitting of model\n",
    "    \n",
    "        \n",
    "    model.add(Dense(second_dense_layer_nodes))\n",
    "    model.add(Activation('softmax'))\n",
    "    # Why Softmax?\n",
    "    # softmax is an activation function used when we are doing classification \n",
    "    #and softmax will give probabilities of various classes involved\n",
    "    model.summary()\n",
    "    \n",
    "    # Why use categorical_crossentropy? We use categorial cross entropy when the target is in categorical format\n",
    "    # Here we are distribuiting the number in 4 categories, thus using categorical crossentropy\n",
    "    model.compile(optimizer='rmsprop',\n",
    "                  loss='categorical_crossentropy',\n",
    "                  metrics=['accuracy'])\n",
    "    # optimizer allows the internal learnable parameter (weights)to get adjusted.\n",
    "    return model"
   ]
  },
  {
   "cell_type": "code",
   "execution_count": 27,
   "metadata": {},
   "outputs": [
    {
     "name": "stdout",
     "output_type": "stream",
     "text": [
      "_________________________________________________________________\n",
      "Layer (type)                 Output Shape              Param #   \n",
      "=================================================================\n",
      "dense_1 (Dense)              (None, 512)               401920    \n",
      "_________________________________________________________________\n",
      "activation_1 (Activation)    (None, 512)               0         \n",
      "_________________________________________________________________\n",
      "dense_2 (Dense)              (None, 10)                5130      \n",
      "_________________________________________________________________\n",
      "activation_2 (Activation)    (None, 10)                0         \n",
      "=================================================================\n",
      "Total params: 407,050\n",
      "Trainable params: 407,050\n",
      "Non-trainable params: 0\n",
      "_________________________________________________________________\n"
     ]
    }
   ],
   "source": [
    "model = get_model()"
   ]
  },
  {
   "cell_type": "code",
   "execution_count": 28,
   "metadata": {},
   "outputs": [
    {
     "name": "stdout",
     "output_type": "stream",
     "text": [
      "[[0. 0. 0. ... 0. 0. 0.]\n",
      " [0. 0. 0. ... 0. 0. 0.]\n",
      " [0. 0. 0. ... 0. 0. 0.]\n",
      " ...\n",
      " [0. 0. 0. ... 0. 0. 0.]\n",
      " [0. 0. 0. ... 0. 0. 0.]\n",
      " [0. 0. 0. ... 0. 0. 0.]]\n",
      "[[0. 0. 0. ... 0. 0. 0.]\n",
      " [1. 0. 0. ... 0. 0. 0.]\n",
      " [0. 0. 0. ... 0. 0. 0.]\n",
      " ...\n",
      " [0. 0. 0. ... 0. 1. 0.]\n",
      " [0. 0. 0. ... 0. 0. 0.]\n",
      " [0. 0. 0. ... 0. 1. 0.]]\n",
      "Train on 40000 samples, validate on 10000 samples\n",
      "Epoch 1/1500\n",
      "40000/40000 [==============================] - 3s 87us/step - loss: 0.3053 - acc: 0.9106 - val_loss: 0.1886 - val_acc: 0.9436\n",
      "Epoch 2/1500\n",
      "40000/40000 [==============================] - 4s 89us/step - loss: 0.1269 - acc: 0.9626 - val_loss: 0.1309 - val_acc: 0.9600\n",
      "Epoch 3/1500\n",
      "40000/40000 [==============================] - 3s 82us/step - loss: 0.0833 - acc: 0.9756 - val_loss: 0.1262 - val_acc: 0.9631\n",
      "Epoch 4/1500\n",
      "40000/40000 [==============================] - 3s 85us/step - loss: 0.0591 - acc: 0.9824 - val_loss: 0.1098 - val_acc: 0.9677\n",
      "Epoch 5/1500\n",
      "40000/40000 [==============================] - 3s 83us/step - loss: 0.0433 - acc: 0.9875 - val_loss: 0.1019 - val_acc: 0.9715\n",
      "Epoch 6/1500\n",
      "40000/40000 [==============================] - 4s 88us/step - loss: 0.0321 - acc: 0.9908 - val_loss: 0.1085 - val_acc: 0.9690\n",
      "Epoch 7/1500\n",
      "40000/40000 [==============================] - 3s 83us/step - loss: 0.0241 - acc: 0.9934 - val_loss: 0.1047 - val_acc: 0.9716\n",
      "Epoch 8/1500\n",
      "40000/40000 [==============================] - 3s 79us/step - loss: 0.0184 - acc: 0.9950 - val_loss: 0.1075 - val_acc: 0.9708\n",
      "Epoch 9/1500\n",
      "40000/40000 [==============================] - 3s 84us/step - loss: 0.0130 - acc: 0.9968 - val_loss: 0.1075 - val_acc: 0.9718\n",
      "Epoch 10/1500\n",
      "40000/40000 [==============================] - 3s 74us/step - loss: 0.0104 - acc: 0.9971 - val_loss: 0.1070 - val_acc: 0.9740\n",
      "Epoch 11/1500\n",
      "40000/40000 [==============================] - 3s 87us/step - loss: 0.0071 - acc: 0.9983 - val_loss: 0.1325 - val_acc: 0.9696\n",
      "Epoch 12/1500\n",
      "40000/40000 [==============================] - 3s 86us/step - loss: 0.0061 - acc: 0.9984 - val_loss: 0.1269 - val_acc: 0.9739\n",
      "Epoch 13/1500\n",
      "40000/40000 [==============================] - 3s 86us/step - loss: 0.0044 - acc: 0.9988 - val_loss: 0.1163 - val_acc: 0.9742\n",
      "Epoch 14/1500\n",
      "40000/40000 [==============================] - 3s 85us/step - loss: 0.0033 - acc: 0.9993 - val_loss: 0.1251 - val_acc: 0.9740\n",
      "Epoch 15/1500\n",
      "40000/40000 [==============================] - 3s 83us/step - loss: 0.0028 - acc: 0.9992 - val_loss: 0.1292 - val_acc: 0.9734\n",
      "Epoch 16/1500\n",
      "40000/40000 [==============================] - 4s 97us/step - loss: 0.0020 - acc: 0.9995 - val_loss: 0.1446 - val_acc: 0.9725\n",
      "Epoch 17/1500\n",
      "40000/40000 [==============================] - 4s 92us/step - loss: 0.0014 - acc: 0.9997 - val_loss: 0.1355 - val_acc: 0.9749\n",
      "Epoch 18/1500\n",
      "40000/40000 [==============================] - 3s 82us/step - loss: 0.0014 - acc: 0.9996 - val_loss: 0.1547 - val_acc: 0.9743\n",
      "Epoch 19/1500\n",
      "40000/40000 [==============================] - 4s 89us/step - loss: 8.3030e-04 - acc: 0.9998 - val_loss: 0.1577 - val_acc: 0.9729\n",
      "Epoch 20/1500\n",
      "40000/40000 [==============================] - 3s 84us/step - loss: 6.5346e-04 - acc: 0.9998 - val_loss: 0.1561 - val_acc: 0.9737\n",
      "Epoch 21/1500\n",
      "40000/40000 [==============================] - 3s 86us/step - loss: 6.5827e-04 - acc: 0.9998 - val_loss: 0.1568 - val_acc: 0.9749\n",
      "Epoch 22/1500\n",
      "40000/40000 [==============================] - 3s 80us/step - loss: 3.3546e-04 - acc: 0.9999 - val_loss: 0.1757 - val_acc: 0.9716\n",
      "Epoch 23/1500\n",
      "40000/40000 [==============================] - 4s 98us/step - loss: 4.0306e-04 - acc: 0.9999 - val_loss: 0.1619 - val_acc: 0.9740\n",
      "Epoch 24/1500\n",
      "40000/40000 [==============================] - 3s 86us/step - loss: 4.3092e-04 - acc: 0.9999 - val_loss: 0.1642 - val_acc: 0.9748\n",
      "Epoch 25/1500\n",
      "40000/40000 [==============================] - 4s 95us/step - loss: 1.4778e-04 - acc: 1.0000 - val_loss: 0.1685 - val_acc: 0.9739\n",
      "Epoch 26/1500\n",
      "40000/40000 [==============================] - 4s 94us/step - loss: 2.6643e-04 - acc: 1.0000 - val_loss: 0.1702 - val_acc: 0.9751\n",
      "Epoch 27/1500\n",
      "40000/40000 [==============================] - 3s 83us/step - loss: 1.0428e-04 - acc: 1.0000 - val_loss: 0.1892 - val_acc: 0.9734\n",
      "Epoch 28/1500\n",
      "40000/40000 [==============================] - 3s 78us/step - loss: 1.2619e-04 - acc: 1.0000 - val_loss: 0.1781 - val_acc: 0.9748\n",
      "Epoch 29/1500\n",
      "40000/40000 [==============================] - 3s 75us/step - loss: 1.8954e-04 - acc: 1.0000 - val_loss: 0.1795 - val_acc: 0.9756\n",
      "Epoch 30/1500\n",
      "40000/40000 [==============================] - 3s 86us/step - loss: 9.2653e-05 - acc: 1.0000 - val_loss: 0.1854 - val_acc: 0.9749\n",
      "Epoch 31/1500\n",
      "40000/40000 [==============================] - 3s 84us/step - loss: 1.7534e-04 - acc: 1.0000 - val_loss: 0.1965 - val_acc: 0.9731\n",
      "Epoch 32/1500\n",
      "40000/40000 [==============================] - 3s 80us/step - loss: 4.1830e-05 - acc: 1.0000 - val_loss: 0.1903 - val_acc: 0.9747\n",
      "Epoch 33/1500\n",
      "40000/40000 [==============================] - 3s 76us/step - loss: 2.9732e-05 - acc: 1.0000 - val_loss: 0.1950 - val_acc: 0.9752\n",
      "Epoch 34/1500\n",
      "40000/40000 [==============================] - 3s 73us/step - loss: 7.1491e-06 - acc: 1.0000 - val_loss: 0.1915 - val_acc: 0.9755\n",
      "Epoch 35/1500\n",
      "40000/40000 [==============================] - 3s 77us/step - loss: 1.2165e-05 - acc: 1.0000 - val_loss: 0.1926 - val_acc: 0.9758\n",
      "Epoch 36/1500\n",
      "40000/40000 [==============================] - 3s 78us/step - loss: 3.9934e-06 - acc: 1.0000 - val_loss: 0.2015 - val_acc: 0.9755\n",
      "Epoch 37/1500\n",
      "40000/40000 [==============================] - 3s 78us/step - loss: 4.2405e-06 - acc: 1.0000 - val_loss: 0.2072 - val_acc: 0.9747\n",
      "Epoch 38/1500\n",
      "40000/40000 [==============================] - 3s 77us/step - loss: 4.7091e-07 - acc: 1.0000 - val_loss: 0.1973 - val_acc: 0.9768\n",
      "Epoch 39/1500\n",
      "40000/40000 [==============================] - 3s 76us/step - loss: 3.2376e-07 - acc: 1.0000 - val_loss: 0.2010 - val_acc: 0.9765\n",
      "Epoch 40/1500\n",
      "40000/40000 [==============================] - 3s 75us/step - loss: 2.0859e-07 - acc: 1.0000 - val_loss: 0.2008 - val_acc: 0.9765\n",
      "Epoch 41/1500\n",
      "40000/40000 [==============================] - 3s 77us/step - loss: 1.6078e-07 - acc: 1.0000 - val_loss: 0.2014 - val_acc: 0.9760\n",
      "Epoch 42/1500\n",
      "40000/40000 [==============================] - 3s 80us/step - loss: 1.5034e-07 - acc: 1.0000 - val_loss: 0.2014 - val_acc: 0.9763\n",
      "Epoch 43/1500\n",
      "40000/40000 [==============================] - 3s 77us/step - loss: 1.4489e-07 - acc: 1.0000 - val_loss: 0.2016 - val_acc: 0.9762\n",
      "Epoch 44/1500\n",
      "40000/40000 [==============================] - 3s 83us/step - loss: 1.4198e-07 - acc: 1.0000 - val_loss: 0.2017 - val_acc: 0.9761\n",
      "Epoch 45/1500\n",
      "40000/40000 [==============================] - 3s 85us/step - loss: 1.3895e-07 - acc: 1.0000 - val_loss: 0.2015 - val_acc: 0.9762\n",
      "Epoch 46/1500\n",
      "40000/40000 [==============================] - 4s 88us/step - loss: 1.3714e-07 - acc: 1.0000 - val_loss: 0.2014 - val_acc: 0.9763\n",
      "Epoch 47/1500\n",
      "40000/40000 [==============================] - 4s 97us/step - loss: 1.3525e-07 - acc: 1.0000 - val_loss: 0.2022 - val_acc: 0.9763\n",
      "Epoch 48/1500\n",
      "40000/40000 [==============================] - 4s 90us/step - loss: 1.3375e-07 - acc: 1.0000 - val_loss: 0.2020 - val_acc: 0.9763\n",
      "Epoch 49/1500\n",
      "40000/40000 [==============================] - 3s 83us/step - loss: 1.3252e-07 - acc: 1.0000 - val_loss: 0.2022 - val_acc: 0.9763\n",
      "Epoch 50/1500\n",
      "40000/40000 [==============================] - 3s 84us/step - loss: 1.3135e-07 - acc: 1.0000 - val_loss: 0.2029 - val_acc: 0.9762\n",
      "Epoch 51/1500\n",
      "40000/40000 [==============================] - 4s 95us/step - loss: 1.3032e-07 - acc: 1.0000 - val_loss: 0.2025 - val_acc: 0.9764\n",
      "Epoch 52/1500\n",
      "40000/40000 [==============================] - 3s 84us/step - loss: 1.2963e-07 - acc: 1.0000 - val_loss: 0.2032 - val_acc: 0.9764\n",
      "Epoch 53/1500\n",
      "40000/40000 [==============================] - 3s 84us/step - loss: 1.2875e-07 - acc: 1.0000 - val_loss: 0.2029 - val_acc: 0.9763\n",
      "Epoch 54/1500\n",
      "40000/40000 [==============================] - 4s 97us/step - loss: 1.2823e-07 - acc: 1.0000 - val_loss: 0.2035 - val_acc: 0.9762\n",
      "Epoch 55/1500\n",
      "40000/40000 [==============================] - 3s 84us/step - loss: 1.2747e-07 - acc: 1.0000 - val_loss: 0.2037 - val_acc: 0.9762\n"
     ]
    },
    {
     "name": "stdout",
     "output_type": "stream",
     "text": [
      "Epoch 56/1500\n",
      "40000/40000 [==============================] - 3s 79us/step - loss: 1.2693e-07 - acc: 1.0000 - val_loss: 0.2040 - val_acc: 0.9762\n",
      "Epoch 57/1500\n",
      "40000/40000 [==============================] - 3s 79us/step - loss: 1.2653e-07 - acc: 1.0000 - val_loss: 0.2036 - val_acc: 0.9763\n",
      "Epoch 58/1500\n",
      "40000/40000 [==============================] - 3s 75us/step - loss: 1.2600e-07 - acc: 1.0000 - val_loss: 0.2040 - val_acc: 0.9764\n",
      "Epoch 59/1500\n",
      "40000/40000 [==============================] - 3s 74us/step - loss: 1.2559e-07 - acc: 1.0000 - val_loss: 0.2044 - val_acc: 0.9763\n",
      "Epoch 60/1500\n",
      "40000/40000 [==============================] - 3s 84us/step - loss: 1.2529e-07 - acc: 1.0000 - val_loss: 0.2042 - val_acc: 0.9763\n",
      "Epoch 61/1500\n",
      "40000/40000 [==============================] - 3s 87us/step - loss: 1.2491e-07 - acc: 1.0000 - val_loss: 0.2044 - val_acc: 0.9760\n",
      "Epoch 62/1500\n",
      "40000/40000 [==============================] - 3s 77us/step - loss: 1.2464e-07 - acc: 1.0000 - val_loss: 0.2043 - val_acc: 0.9763\n",
      "Epoch 63/1500\n",
      "40000/40000 [==============================] - 3s 77us/step - loss: 1.2436e-07 - acc: 1.0000 - val_loss: 0.2047 - val_acc: 0.9761\n",
      "Epoch 64/1500\n",
      "40000/40000 [==============================] - 3s 74us/step - loss: 1.2397e-07 - acc: 1.0000 - val_loss: 0.2050 - val_acc: 0.9763\n",
      "Epoch 65/1500\n",
      "40000/40000 [==============================] - 3s 76us/step - loss: 1.2381e-07 - acc: 1.0000 - val_loss: 0.2048 - val_acc: 0.9763\n",
      "Epoch 66/1500\n",
      "40000/40000 [==============================] - 3s 76us/step - loss: 1.2355e-07 - acc: 1.0000 - val_loss: 0.2047 - val_acc: 0.9763\n",
      "Epoch 67/1500\n",
      "40000/40000 [==============================] - 3s 76us/step - loss: 1.2330e-07 - acc: 1.0000 - val_loss: 0.2050 - val_acc: 0.9763\n",
      "Epoch 68/1500\n",
      "40000/40000 [==============================] - 3s 78us/step - loss: 1.2308e-07 - acc: 1.0000 - val_loss: 0.2050 - val_acc: 0.9764\n",
      "Epoch 69/1500\n",
      "40000/40000 [==============================] - 3s 73us/step - loss: 1.2286e-07 - acc: 1.0000 - val_loss: 0.2048 - val_acc: 0.9764\n",
      "Epoch 70/1500\n",
      "40000/40000 [==============================] - 3s 77us/step - loss: 1.2274e-07 - acc: 1.0000 - val_loss: 0.2053 - val_acc: 0.9763\n",
      "Epoch 71/1500\n",
      "40000/40000 [==============================] - 3s 78us/step - loss: 1.2254e-07 - acc: 1.0000 - val_loss: 0.2054 - val_acc: 0.9763\n",
      "Epoch 72/1500\n",
      "40000/40000 [==============================] - 3s 76us/step - loss: 1.2235e-07 - acc: 1.0000 - val_loss: 0.2055 - val_acc: 0.9763\n",
      "Epoch 73/1500\n",
      "40000/40000 [==============================] - 3s 77us/step - loss: 1.2220e-07 - acc: 1.0000 - val_loss: 0.2055 - val_acc: 0.9762\n",
      "Epoch 74/1500\n",
      "40000/40000 [==============================] - 3s 78us/step - loss: 1.2207e-07 - acc: 1.0000 - val_loss: 0.2055 - val_acc: 0.9763\n",
      "Epoch 75/1500\n",
      "40000/40000 [==============================] - 3s 74us/step - loss: 1.2194e-07 - acc: 1.0000 - val_loss: 0.2055 - val_acc: 0.9764\n",
      "Epoch 76/1500\n",
      "40000/40000 [==============================] - 3s 78us/step - loss: 1.2181e-07 - acc: 1.0000 - val_loss: 0.2058 - val_acc: 0.9762\n",
      "Epoch 77/1500\n",
      "40000/40000 [==============================] - 3s 78us/step - loss: 1.2169e-07 - acc: 1.0000 - val_loss: 0.2058 - val_acc: 0.9764\n",
      "Epoch 78/1500\n",
      "40000/40000 [==============================] - 3s 77us/step - loss: 1.2159e-07 - acc: 1.0000 - val_loss: 0.2060 - val_acc: 0.9762\n",
      "Epoch 79/1500\n",
      "40000/40000 [==============================] - 3s 80us/step - loss: 1.2147e-07 - acc: 1.0000 - val_loss: 0.2061 - val_acc: 0.9763\n",
      "Epoch 80/1500\n",
      "40000/40000 [==============================] - 3s 76us/step - loss: 1.2133e-07 - acc: 1.0000 - val_loss: 0.2062 - val_acc: 0.9762\n",
      "Epoch 81/1500\n",
      "40000/40000 [==============================] - 3s 78us/step - loss: 1.2129e-07 - acc: 1.0000 - val_loss: 0.2061 - val_acc: 0.9762\n",
      "Epoch 82/1500\n",
      "40000/40000 [==============================] - 3s 78us/step - loss: 1.2116e-07 - acc: 1.0000 - val_loss: 0.2063 - val_acc: 0.9763\n",
      "Epoch 83/1500\n",
      "40000/40000 [==============================] - 3s 83us/step - loss: 1.2109e-07 - acc: 1.0000 - val_loss: 0.2066 - val_acc: 0.9760\n",
      "Epoch 84/1500\n",
      "40000/40000 [==============================] - 3s 81us/step - loss: 1.2103e-07 - acc: 1.0000 - val_loss: 0.2063 - val_acc: 0.9763\n",
      "Epoch 85/1500\n",
      "40000/40000 [==============================] - 3s 74us/step - loss: 1.2092e-07 - acc: 1.0000 - val_loss: 0.2065 - val_acc: 0.9762\n",
      "Epoch 86/1500\n",
      "40000/40000 [==============================] - 3s 81us/step - loss: 1.2089e-07 - acc: 1.0000 - val_loss: 0.2065 - val_acc: 0.9762\n",
      "Epoch 87/1500\n",
      "40000/40000 [==============================] - 3s 78us/step - loss: 1.2081e-07 - acc: 1.0000 - val_loss: 0.2064 - val_acc: 0.9763\n",
      "Epoch 88/1500\n",
      "40000/40000 [==============================] - 3s 78us/step - loss: 1.2074e-07 - acc: 1.0000 - val_loss: 0.2067 - val_acc: 0.9762\n",
      "Epoch 89/1500\n",
      "40000/40000 [==============================] - 3s 80us/step - loss: 1.2068e-07 - acc: 1.0000 - val_loss: 0.2067 - val_acc: 0.9761\n",
      "Epoch 90/1500\n",
      "40000/40000 [==============================] - 3s 76us/step - loss: 1.2061e-07 - acc: 1.0000 - val_loss: 0.2065 - val_acc: 0.9763\n",
      "Epoch 91/1500\n",
      "40000/40000 [==============================] - 3s 81us/step - loss: 1.2054e-07 - acc: 1.0000 - val_loss: 0.2070 - val_acc: 0.9760\n",
      "Epoch 92/1500\n",
      "40000/40000 [==============================] - 4s 101us/step - loss: 1.2051e-07 - acc: 1.0000 - val_loss: 0.2071 - val_acc: 0.9760\n",
      "Epoch 93/1500\n",
      "40000/40000 [==============================] - 3s 83us/step - loss: 1.2046e-07 - acc: 1.0000 - val_loss: 0.2068 - val_acc: 0.9761\n",
      "Epoch 94/1500\n",
      "40000/40000 [==============================] - 3s 79us/step - loss: 1.2041e-07 - acc: 1.0000 - val_loss: 0.2070 - val_acc: 0.9761\n",
      "Epoch 95/1500\n",
      "40000/40000 [==============================] - 3s 75us/step - loss: 1.2038e-07 - acc: 1.0000 - val_loss: 0.2071 - val_acc: 0.9761\n",
      "Epoch 96/1500\n",
      "40000/40000 [==============================] - 3s 78us/step - loss: 1.2031e-07 - acc: 1.0000 - val_loss: 0.2070 - val_acc: 0.9760\n",
      "Epoch 97/1500\n",
      "40000/40000 [==============================] - 3s 78us/step - loss: 1.2027e-07 - acc: 1.0000 - val_loss: 0.2071 - val_acc: 0.9760\n",
      "Epoch 98/1500\n",
      "40000/40000 [==============================] - 3s 81us/step - loss: 1.2023e-07 - acc: 1.0000 - val_loss: 0.2072 - val_acc: 0.9762\n",
      "Epoch 99/1500\n",
      "40000/40000 [==============================] - 3s 78us/step - loss: 1.2019e-07 - acc: 1.0000 - val_loss: 0.2073 - val_acc: 0.9762\n",
      "Epoch 100/1500\n",
      "40000/40000 [==============================] - 3s 76us/step - loss: 1.2015e-07 - acc: 1.0000 - val_loss: 0.2074 - val_acc: 0.9761\n",
      "Epoch 101/1500\n",
      "40000/40000 [==============================] - 3s 78us/step - loss: 1.2010e-07 - acc: 1.0000 - val_loss: 0.2074 - val_acc: 0.9761\n",
      "Epoch 102/1500\n",
      "40000/40000 [==============================] - 3s 78us/step - loss: 1.2009e-07 - acc: 1.0000 - val_loss: 0.2073 - val_acc: 0.9761\n",
      "Epoch 103/1500\n",
      "40000/40000 [==============================] - 3s 82us/step - loss: 1.2005e-07 - acc: 1.0000 - val_loss: 0.2073 - val_acc: 0.9762\n",
      "Epoch 104/1500\n",
      "40000/40000 [==============================] - 4s 89us/step - loss: 1.2002e-07 - acc: 1.0000 - val_loss: 0.2074 - val_acc: 0.9761\n",
      "Epoch 105/1500\n",
      "40000/40000 [==============================] - 3s 75us/step - loss: 1.1999e-07 - acc: 1.0000 - val_loss: 0.2075 - val_acc: 0.9761\n",
      "Epoch 00105: early stopping\n"
     ]
    }
   ],
   "source": [
    "validation_data_split = 0.2\n",
    "num_epochs = 1500\n",
    "model_batch_size = 128\n",
    "tb_batch_size = 20\n",
    "early_patience = 100\n",
    "#tensorboard is used for visualization\n",
    "tensorboard_cb   = TensorBoard(log_dir='logs', batch_size= tb_batch_size, write_graph= True)\n",
    "earlystopping_cb = EarlyStopping(monitor='val_loss', verbose=1, patience=early_patience, mode='min')\n",
    "#Early stopping happens when the quantity monitored stops increasing or decreasing\n",
    "# Read Dataset\n",
    "dataset = training_data\n",
    "\n",
    "# Process Dataset\n",
    "processedData, processedLabel = processData(dataset)\n",
    "history = model.fit(processedData\n",
    "                    , processedLabel\n",
    "                    , validation_split=validation_data_split\n",
    "                    , epochs=num_epochs\n",
    "                    , batch_size=model_batch_size\n",
    "                    , callbacks = [tensorboard_cb,earlystopping_cb]\n",
    "                   )\n",
    "\n"
   ]
  },
  {
   "cell_type": "code",
   "execution_count": 29,
   "metadata": {},
   "outputs": [
    {
     "data": {
      "text/plain": [
       "array([<matplotlib.axes._subplots.AxesSubplot object at 0x1c37d68dd8>,\n",
       "       <matplotlib.axes._subplots.AxesSubplot object at 0x1c37ee4198>,\n",
       "       <matplotlib.axes._subplots.AxesSubplot object at 0x1c37f232b0>,\n",
       "       <matplotlib.axes._subplots.AxesSubplot object at 0x1c37f39860>],\n",
       "      dtype=object)"
      ]
     },
     "execution_count": 29,
     "metadata": {},
     "output_type": "execute_result"
    },
    {
     "data": {
      "image/png": "[encoded data removed]",
      "text/plain": [
       "<matplotlib.figure.Figure at 0x1c37e7cc50>"
      ]
     },
     "metadata": {
      "needs_background": "light"
     },
     "output_type": "display_data"
    }
   ],
   "source": [
    "%matplotlib inline\n",
    "import pandas as pd\n",
    "df = pd.DataFrame(history.history)\n",
    "df.plot(subplots=True, grid=True, figsize=(10,15))"
   ]
  },
  {
   "cell_type": "markdown",
   "metadata": {},
   "source": [
    "#### DNN on mnist dataset"
   ]
  },
  {
   "cell_type": "code",
   "execution_count": 125,
   "metadata": {},
   "outputs": [
    {
     "name": "stdout",
     "output_type": "stream",
     "text": [
      "0.9821\n"
     ]
    }
   ],
   "source": [
    "eval_results = model.predict(test_data[0])\n",
    "\n",
    "right = 0\n",
    "predNN = []\n",
    "for i in range(10000):\n",
    "    \n",
    "    m = np.argmax(eval_results[i])\n",
    "    predNN.append(m)\n",
    "    if (m == test_data[1][i]):\n",
    "            right = right + 1\n",
    "accuracy = right/10000\n",
    "\n",
    "print(accuracy)"
   ]
  },
  {
   "cell_type": "markdown",
   "metadata": {},
   "source": [
    "#### DNN on USPS dataset"
   ]
  },
  {
   "cell_type": "code",
   "execution_count": 104,
   "metadata": {},
   "outputs": [
    {
     "name": "stdout",
     "output_type": "stream",
     "text": [
      "[[2.0950228e-14 0.0000000e+00 6.1434344e-28 ... 1.0001681e-09\n",
      "  4.1643047e-18 9.7595023e-07]\n",
      " [5.4831099e-04 8.9696761e-32 1.3242395e-05 ... 4.8334823e-17\n",
      "  6.9710011e-25 3.2781527e-18]\n",
      " [9.9998605e-01 4.6866350e-27 1.0329853e-15 ... 1.3935022e-05\n",
      "  8.1362345e-20 8.2789940e-22]\n",
      " ...\n",
      " [6.4100331e-12 1.3907077e-20 2.4975211e-08 ... 1.8122680e-02\n",
      "  2.6887601e-09 1.2947954e-04]\n",
      " [2.9170544e-24 3.8441018e-11 3.0278934e-16 ... 4.4634257e-06\n",
      "  1.3898868e-09 9.9999559e-01]\n",
      " [8.1267632e-20 5.8081291e-22 3.7722401e-19 ... 1.0000000e+00\n",
      "  4.3471296e-17 7.3234273e-13]]\n",
      "0.4232711635581779\n"
     ]
    }
   ],
   "source": [
    "USPSMat = np.asarray(USPSMat)\n",
    "\n",
    "eval_results = model.predict(USPSMat)\n",
    "\n",
    "right = 0\n",
    "predNNU = []\n",
    "for i in range(19999):\n",
    "    \n",
    "    m = np.argmax(eval_results[i])\n",
    "    predNNU.append(m)\n",
    "    if (m == USPSTar[i]):\n",
    "            right = right + 1\n",
    "accuracy = right/19999\n",
    "\n",
    "print(accuracy)"
   ]
  },
  {
   "cell_type": "code",
   "execution_count": 106,
   "metadata": {},
   "outputs": [
    {
     "data": {
      "text/plain": [
       "array([[ 533,    0,  236,   80,  106,  215,  268,  267,   34,  261],\n",
       "       [  28,  334,  550,  110,  339,  132,   23,  286,  147,   51],\n",
       "       [  35,    4, 1623,   38,   26,  106,   86,   34,   45,    2],\n",
       "       [  26,   11,  419, 1014,   13,  411,   25,   26,   36,   19],\n",
       "       [  15,   31,  132,   10, 1072,  129,   57,  335,  153,   66],\n",
       "       [  18,    2,  418,   69,    8, 1344,   77,   28,   31,    5],\n",
       "       [  51,   17,  546,   16,   34,  207,  963,  112,   13,   41],\n",
       "       [  16,   69,  180,  438,   52,   50,   46,  929,  213,    7],\n",
       "       [ 157,    4,  242,  309,  146,  317,  220,  182,  396,   27],\n",
       "       [   6,   34,  163,  241,  162,   42,   24,  799,  272,  257]])"
      ]
     },
     "execution_count": 106,
     "metadata": {},
     "output_type": "execute_result"
    }
   ],
   "source": [
    "from sklearn.metrics import confusion_matrix\n",
    ">>> y_true = USPSTar\n",
    ">>> y_predict = predNNU\n",
    ">>> confusion_matrix(y_true, y_predict)"
   ]
  },
  {
   "cell_type": "code",
   "execution_count": 31,
   "metadata": {},
   "outputs": [
    {
     "data": {
      "text/plain": [
       "array([[ 971,    0,    1,    0,    0,    0,    4,    1,    3,    0],\n",
       "       [   0, 1126,    2,    1,    0,    0,    2,    1,    3,    0],\n",
       "       [   3,    1, 1014,    1,    3,    0,    2,    5,    3,    0],\n",
       "       [   0,    0,    0,  996,    0,    2,    0,    4,    4,    4],\n",
       "       [   1,    0,    1,    1,  964,    0,    5,    2,    2,    6],\n",
       "       [   2,    0,    0,    7,    2,  871,    3,    2,    3,    2],\n",
       "       [   4,    3,    1,    1,    5,    3,  939,    0,    2,    0],\n",
       "       [   1,    4,    7,    2,    1,    0,    0, 1008,    3,    2],\n",
       "       [   3,    0,    4,    3,    7,    2,    2,    4,  945,    4],\n",
       "       [   2,    3,    0,    2,    6,    3,    1,    4,    1,  987]])"
      ]
     },
     "execution_count": 31,
     "metadata": {},
     "output_type": "execute_result"
    }
   ],
   "source": [
    "from sklearn.metrics import confusion_matrix\n",
    ">>> y_true =test_data[1]  \n",
    ">>> y_predict = predNN\n",
    ">>> confusion_matrix(y_true, y_predict)"
   ]
  },
  {
   "cell_type": "markdown",
   "metadata": {},
   "source": [
    "### Random Forest"
   ]
  },
  {
   "cell_type": "code",
   "execution_count": 73,
   "metadata": {},
   "outputs": [
    {
     "data": {
      "text/plain": [
       "RandomForestClassifier(bootstrap=True, class_weight=None, criterion='gini',\n",
       "            max_depth=None, max_features='auto', max_leaf_nodes=None,\n",
       "            min_impurity_decrease=0.0, min_impurity_split=None,\n",
       "            min_samples_leaf=1, min_samples_split=2,\n",
       "            min_weight_fraction_leaf=0.0, n_estimators=10, n_jobs=1,\n",
       "            oob_score=False, random_state=None, verbose=0,\n",
       "            warm_start=False)"
      ]
     },
     "execution_count": 73,
     "metadata": {},
     "output_type": "execute_result"
    }
   ],
   "source": [
    "import numpy as np\n",
    "from sklearn.svm import SVC\n",
    "from sklearn.ensemble import RandomForestClassifier\n",
    "from sklearn.datasets import fetch_mldata\n",
    "\n",
    "classifier3 = RandomForestClassifier(n_estimators=10)\n",
    "classifier3.fit(training_data[0], training_data[1])"
   ]
  },
  {
   "cell_type": "code",
   "execution_count": 77,
   "metadata": {},
   "outputs": [
    {
     "data": {
      "text/plain": [
       "(10000,)"
      ]
     },
     "execution_count": 77,
     "metadata": {},
     "output_type": "execute_result"
    }
   ],
   "source": [
    "y_pred3 = classifier3.predict(test_data[0])\n",
    "y_pred3.shape\n"
   ]
  },
  {
   "cell_type": "markdown",
   "metadata": {},
   "source": [
    "#### Random forest on mnist dataset"
   ]
  },
  {
   "cell_type": "code",
   "execution_count": 126,
   "metadata": {},
   "outputs": [
    {
     "name": "stdout",
     "output_type": "stream",
     "text": [
      "94.48\n"
     ]
    }
   ],
   "source": [
    "right = 0\n",
    "\n",
    "for i in range(10000):\n",
    "    \n",
    "    if (y_pred3[i] == test_data[1][i]):\n",
    "            right = right + 1\n",
    "        \n",
    "accuracy = right/100\n",
    "\n",
    "print(accuracy)"
   ]
  },
  {
   "cell_type": "code",
   "execution_count": 79,
   "metadata": {},
   "outputs": [
    {
     "data": {
      "text/plain": [
       "array([[ 970,    1,    0,    1,    1,    4,    2,    1,    0,    0],\n",
       "       [   0, 1118,    3,    4,    0,    2,    2,    2,    4,    0],\n",
       "       [   8,    4,  978,   10,    4,    0,    5,   13,    9,    1],\n",
       "       [   1,    0,   17,  953,    0,   21,    1,    6,    9,    2],\n",
       "       [   2,    2,    8,    2,  920,    1,    6,    2,    7,   32],\n",
       "       [   8,    3,    5,   34,    6,  806,   12,    2,   11,    5],\n",
       "       [  10,    3,    3,    2,   11,   12,  914,    0,    3,    0],\n",
       "       [   1,    5,   24,   12,    5,    1,    0,  966,    4,   10],\n",
       "       [   5,    2,   13,   19,    8,   12,    7,    6,  894,    8],\n",
       "       [   9,    5,    5,   12,   23,    7,    1,   11,    7,  929]])"
      ]
     },
     "execution_count": 79,
     "metadata": {},
     "output_type": "execute_result"
    }
   ],
   "source": [
    "from sklearn.metrics import confusion_matrix\n",
    ">>> y_true = test_data[1]  \n",
    ">>> y_predict = y_pred3\n",
    ">>> confusion_matrix(y_true, y_predict)"
   ]
  },
  {
   "cell_type": "markdown",
   "metadata": {},
   "source": [
    "#### Random forest on USPS dataset"
   ]
  },
  {
   "cell_type": "code",
   "execution_count": 97,
   "metadata": {},
   "outputs": [
    {
     "name": "stdout",
     "output_type": "stream",
     "text": [
      "0.30536526826341315\n"
     ]
    }
   ],
   "source": [
    "y_predU = classifier3.predict(USPSMat)\n",
    "y_predU.shape\n",
    "right = 0\n",
    "\n",
    "for i in range(19999):\n",
    "    \n",
    "    if (y_predU[i] == USPSTar[i]):\n",
    "            right = right + 1\n",
    "        \n",
    "accuracy = right/19999\n",
    "\n",
    "print(accuracy)\n"
   ]
  },
  {
   "cell_type": "code",
   "execution_count": 108,
   "metadata": {},
   "outputs": [
    {
     "data": {
      "text/plain": [
       "array([[ 602,   89,  363,   80,  312,  155,  103,  124,   16,  156],\n",
       "       [  60,  526,  172,  184,  106,   89,   59,  755,   29,   20],\n",
       "       [ 155,  122, 1033,  144,   64,  171,   64,  198,   18,   30],\n",
       "       [  80,   78,  272, 1007,   49,  295,   15,  136,   19,   49],\n",
       "       [  59,  219,  145,  132,  781,  189,   23,  336,   50,   66],\n",
       "       [ 181,  102,  241,  246,   70,  923,   49,  121,   23,   44],\n",
       "       [ 323,   99,  353,  100,  142,  355,  457,  104,   25,   42],\n",
       "       [  61,  427,  392,  323,   39,  154,   19,  534,   41,   10],\n",
       "       [ 123,  164,  281,  286,  157,  646,   84,   89,  128,   42],\n",
       "       [  60,  312,  316,  370,  175,  154,   16,  397,   84,  116]])"
      ]
     },
     "execution_count": 108,
     "metadata": {},
     "output_type": "execute_result"
    }
   ],
   "source": [
    "from sklearn.metrics import confusion_matrix\n",
    ">>> y_true = USPSTar  \n",
    ">>> y_predict = y_predU\n",
    ">>> confusion_matrix(y_true, y_predict)"
   ]
  },
  {
   "cell_type": "markdown",
   "metadata": {},
   "source": [
    "### Combined Model for Logistic Regression, Linear SVM, Random Forest and Neural Network for MNIST"
   ]
  },
  {
   "cell_type": "code",
   "execution_count": 142,
   "metadata": {},
   "outputs": [],
   "source": [
    "final =[]\n",
    "for i in range(len(y_pred3)):\n",
    "    k = predlog[i]\n",
    "    l = predsvm1[i]\n",
    "    m = predNN[i]\n",
    "    n = y_pred3[i]\n",
    "    listf = [k,l,m,n]\n",
    "    classk = [predlog[i],l,predNN[i],y_pred3[i]].count(k)\n",
    "    classl = [predlog[i],l,predNN[i],y_pred3[i]].count(l)\n",
    "    classm = [predlog[i],l,predNN[i],y_pred3[i]].count(m)\n",
    "    classn = [predlog[i],l,predNN[i],y_pred3[i]].count(n)\n",
    "    \n",
    "    maxim = [classk,classl,classm,classn]\n",
    "    maxim2 = np.argmax(maxim)\n",
    "    final.append(listf[maxim2])\n",
    "    \n",
    "\n"
   ]
  },
  {
   "cell_type": "code",
   "execution_count": 143,
   "metadata": {},
   "outputs": [
    {
     "name": "stdout",
     "output_type": "stream",
     "text": [
      "93.84938493849386\n"
     ]
    }
   ],
   "source": [
    "right = 0\n",
    "\n",
    "for i in range(9999):\n",
    "    \n",
    "    if (final[i] == test_data[1][i]):\n",
    "            right = right + 1\n",
    "        \n",
    "accuracy = (right/9999)*100\n",
    "\n",
    "print(accuracy)"
   ]
  },
  {
   "cell_type": "code",
   "execution_count": 144,
   "metadata": {},
   "outputs": [
    {
     "data": {
      "text/plain": [
       "array([[ 965,    0,    0,    1,    0,    2,    8,    1,    3,    0],\n",
       "       [   0, 1117,    2,    3,    0,    0,    4,    1,    8,    0],\n",
       "       [   8,    5,  941,   16,    6,    1,    9,   14,   29,    3],\n",
       "       [   2,    0,   14,  950,    0,   17,    1,    9,   11,    6],\n",
       "       [   1,    2,    3,    2,  920,    0,    8,    1,    8,   37],\n",
       "       [   6,    1,    0,   31,    8,  806,   13,    4,   19,    4],\n",
       "       [  10,    3,    2,    2,    8,   14,  917,    0,    2,    0],\n",
       "       [   2,    9,   19,    5,    4,    0,    0,  964,    2,   23],\n",
       "       [   5,    6,    6,   21,    7,   22,   10,   13,  872,   12],\n",
       "       [   6,    6,    1,   11,   17,   13,    0,   19,    3,  933]])"
      ]
     },
     "execution_count": 144,
     "metadata": {},
     "output_type": "execute_result"
    }
   ],
   "source": [
    "from sklearn.metrics import confusion_matrix\n",
    ">>> y_true = test_data[1] \n",
    ">>> y_predict = final\n",
    ">>> confusion_matrix(y_true, y_predict)"
   ]
  },
  {
   "cell_type": "markdown",
   "metadata": {},
   "source": [
    "### Combined Model for Logistic Regression, Linear SVM, Random Forest and Neural Network for USPS"
   ]
  },
  {
   "cell_type": "code",
   "execution_count": 150,
   "metadata": {},
   "outputs": [],
   "source": [
    "final2 =[]\n",
    "for i in range(19999):\n",
    "    k = predlogU[i]\n",
    "    l = predsvmU[i]\n",
    "    m = predNNU[i]\n",
    "    n = y_predU[i]\n",
    "    listf = [k,l,m,n]\n",
    "    classk = [k,l,m,n].count(k)\n",
    "    classl = [k,l,m,n].count(l)\n",
    "    classm = [k,l,m,n].count(m)\n",
    "    classn = [k,l,m,n].count(n)\n",
    "    \n",
    "    maxim = [classk,classl,classm,classn]\n",
    "    maxim2 = np.argmax(maxim)\n",
    "    final2.append(listf[maxim2])\n",
    "    "
   ]
  },
  {
   "cell_type": "code",
   "execution_count": 151,
   "metadata": {},
   "outputs": [
    {
     "name": "stdout",
     "output_type": "stream",
     "text": [
      "37.6318815940797\n"
     ]
    }
   ],
   "source": [
    "right = 0\n",
    "\n",
    "for i in range(19999):\n",
    "    \n",
    "    if (final2[i] == USPSTar[i]):\n",
    "            right = right + 1\n",
    "        \n",
    "accuracy = (right/19999)*100\n",
    "\n",
    "print(accuracy)"
   ]
  },
  {
   "cell_type": "code",
   "execution_count": 152,
   "metadata": {},
   "outputs": [
    {
     "data": {
      "text/plain": [
       "array([[ 555,    4,  341,   98,  158,  173,  116,  208,   79,  268],\n",
       "       [  99,  379,  364,  238,  204,   94,   23,  462,  117,   20],\n",
       "       [ 103,   18, 1427,  107,   30,  111,   73,   77,   37,   16],\n",
       "       [  50,    3,  266, 1222,    3,  337,   15,   51,   31,   22],\n",
       "       [  35,   74,   96,   55,  960,  152,   41,  300,  209,   78],\n",
       "       [  82,   12,  353,  168,   16, 1208,   60,   62,   25,   14],\n",
       "       [ 187,   14,  510,   77,   54,  327,  727,   55,   19,   30],\n",
       "       [ 103,  188,  230,  508,   43,  103,   29,  582,  184,   30],\n",
       "       [ 192,   26,  161,  346,   89,  617,  113,  109,  302,   45],\n",
       "       [  23,  142,  156,  462,  106,   76,   14,  604,  253,  164]])"
      ]
     },
     "execution_count": 152,
     "metadata": {},
     "output_type": "execute_result"
    }
   ],
   "source": [
    "from sklearn.metrics import confusion_matrix\n",
    ">>> y_true = USPSTar\n",
    ">>> y_predict = final2\n",
    ">>> confusion_matrix(y_true, y_predict)"
   ]
  },
  {
   "cell_type": "code",
   "execution_count": null,
   "metadata": {},
   "outputs": [],
   "source": []
  }
 ],
 "metadata": {
  "kernelspec": {
   "display_name": "Python 3",
   "language": "python",
   "name": "python3"
  },
  "language_info": {
   "codemirror_mode": {
    "name": "ipython",
    "version": 3
   },
   "file_extension": ".py",
   "mimetype": "text/x-python",
   "name": "python",
   "nbconvert_exporter": "python",
   "pygments_lexer": "ipython3",
   "version": "3.6.4"
  }
 },
 "nbformat": 4,
 "nbformat_minor": 2
}
